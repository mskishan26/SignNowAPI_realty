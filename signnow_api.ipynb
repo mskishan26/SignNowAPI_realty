{
  "nbformat": 4,
  "nbformat_minor": 0,
  "metadata": {
    "colab": {
      "provenance": [],
      "collapsed_sections": [
        "umlBCA9o0mmM"
      ]
    },
    "kernelspec": {
      "name": "python3",
      "display_name": "Python 3"
    },
    "language_info": {
      "name": "python"
    }
  },
  "cells": [
    {
      "cell_type": "code",
      "source": [
        "!pip install python-dotenv"
      ],
      "metadata": {
        "colab": {
          "base_uri": "https://localhost:8080/"
        },
        "id": "KdAgWkY4r3Qa",
        "outputId": "5b258a47-4def-498f-cbca-3d8a4cf567cd"
      },
      "execution_count": 2,
      "outputs": [
        {
          "output_type": "stream",
          "name": "stdout",
          "text": [
            "Collecting python-dotenv\n",
            "  Downloading python_dotenv-1.0.1-py3-none-any.whl.metadata (23 kB)\n",
            "Downloading python_dotenv-1.0.1-py3-none-any.whl (19 kB)\n",
            "Installing collected packages: python-dotenv\n",
            "Successfully installed python-dotenv-1.0.1\n"
          ]
        }
      ]
    },
    {
      "cell_type": "code",
      "source": [
        "# https://docs.signnow.com/docs/signnow/document/operations/update-a-v-2-document-prefill-text"
      ],
      "metadata": {
        "id": "5COtabhkbbCx"
      },
      "execution_count": null,
      "outputs": []
    },
    {
      "cell_type": "code",
      "source": [
        "import requests\n",
        "import json\n",
        "from datetime import datetime,timedelta\n",
        "from dotenv import load_dotenv\n",
        "import functools\n",
        "import os"
      ],
      "metadata": {
        "id": "NpJmNgkH1-CN"
      },
      "execution_count": 3,
      "outputs": []
    },
    {
      "cell_type": "code",
      "source": [
        "import logging\n",
        "\n",
        "logging.basicConfig(level=logging.INFO)\n",
        "logger = logging.getLogger(__name__)"
      ],
      "metadata": {
        "id": "cgQ_HL3KvgrL"
      },
      "execution_count": 4,
      "outputs": []
    },
    {
      "cell_type": "code",
      "source": [
        "load_dotenv()"
      ],
      "metadata": {
        "colab": {
          "base_uri": "https://localhost:8080/"
        },
        "id": "5vdceov2sD6f",
        "outputId": "a9c96b04-dabc-4385-f501-874ad1a394ed"
      },
      "execution_count": 5,
      "outputs": [
        {
          "output_type": "execute_result",
          "data": {
            "text/plain": [
              "True"
            ]
          },
          "metadata": {},
          "execution_count": 5
        }
      ]
    },
    {
      "cell_type": "code",
      "source": [
        "os.getenv('client_id')"
      ],
      "metadata": {
        "colab": {
          "base_uri": "https://localhost:8080/",
          "height": 35
        },
        "id": "HRj-7RKHsQq9",
        "outputId": "e235b11d-9603-4099-8a0b-d9ada4935f59"
      },
      "execution_count": 6,
      "outputs": [
        {
          "output_type": "execute_result",
          "data": {
            "text/plain": [
              "'e12119018f2e0ca97cfef13800c0f030'"
            ],
            "application/vnd.google.colaboratory.intrinsic+json": {
              "type": "string"
            }
          },
          "metadata": {},
          "execution_count": 6
        }
      ]
    },
    {
      "cell_type": "code",
      "source": [
        "#test form details\n",
        "signer_count = 2\n",
        "user_details = [{'email': 'mskishan26@gmail.com', 'name': 'Kishan Sathish Babu'},\n",
        "                {'email': 'obinsontobinson@gmail.com', 'name': 'Obinson Tobinson'}]\n",
        "house_name = '1234 xyz st'\n",
        "movein_date = '09-01-2024'\n",
        "rent = '3000'"
      ],
      "metadata": {
        "id": "_hoQ5YQT1RVK"
      },
      "execution_count": 7,
      "outputs": []
    },
    {
      "cell_type": "code",
      "source": [
        "all_names = [person['name'] for person in user_details]\n",
        "\n",
        "def all_tenant_prefill(curr_name):\n",
        "  other_names = [name for name in all_names if name != curr_name]\n",
        "  return f\"{curr_name}, {','.join(other_names)}\""
      ],
      "metadata": {
        "id": "vDis9sO-LLOn"
      },
      "execution_count": 8,
      "outputs": []
    },
    {
      "cell_type": "code",
      "source": [
        "class SignNowAPI:\n",
        "    def __init__(self):\n",
        "        self.base_url = \"https://api.signnow.com\"\n",
        "        self.token = self.get_access_token()\n",
        "\n",
        "    def get_access_token(self):\n",
        "        url = f\"{self.base_url}/oauth2/token\"\n",
        "        payload = {\n",
        "            \"grant_type\": \"password\",\n",
        "            \"client_id\": os.getenv('client_id'),\n",
        "            \"client_secret\": os.getenv('client_secret'),\n",
        "            \"username\": os.getenv('username'),\n",
        "            \"password\": os.getenv('password')\n",
        "        }\n",
        "        response = requests.post(url, data=payload)\n",
        "        response.raise_for_status()\n",
        "        token_data = response.json()\n",
        "        self.token = token_data[\"access_token\"]\n",
        "        self.token_expiry = datetime.now() + timedelta(seconds=token_data[\"expires_in\"])\n",
        "        logger.info(\"New token issued\")\n",
        "\n",
        "    def verify_token(self):\n",
        "        if not self.token or datetime.now() >= self.token_expiry:\n",
        "            return False\n",
        "        return True\n",
        "\n",
        "    def token_required(func):\n",
        "        @functools.wraps(func)\n",
        "        def wrapper(self, *args, **kwargs):\n",
        "            if not self.verify_token():\n",
        "                logger.info(\"Token expired or not available. Refreshing...\")\n",
        "                self.get_access_token()\n",
        "            return func(self, *args, **kwargs)\n",
        "        return wrapper\n",
        "\n",
        "    @token_required\n",
        "    def create_document_group(self, document_list, group_name):\n",
        "        url = f\"{self.base_url}/documentgroup\"\n",
        "        headers = {\n",
        "            \"Authorization\": f\"Bearer {self.token}\",\n",
        "            \"Content-Type\": \"application/json\"\n",
        "        }\n",
        "        payload = {\"document_ids\": document_list,\n",
        "                   \"group_name\":group_name}\n",
        "        response = requests.post(url, headers=headers, json=payload)\n",
        "        return response.json()[\"id\"]\n",
        "\n",
        "    @token_required\n",
        "    def create_document_from_template(self, template_id, document_name):\n",
        "        url = f\"{self.base_url}/template/{template_id}/copy\"\n",
        "        headers = {\n",
        "            \"Authorization\": f\"Bearer {self.token}\",\n",
        "            \"Content-Type\": \"application/json\"\n",
        "        }\n",
        "        payload = {\"document_name\": document_name}\n",
        "        response = requests.post(url, headers=headers, json=payload)\n",
        "        return response.json()[\"id\"]\n",
        "\n",
        "    @token_required\n",
        "    def send_invite(self, documentgroup_id, payload):\n",
        "        url = f\"{self.base_url}/documentgroup/{documentgroup_id}/groupinvite\"\n",
        "        headers = {\n",
        "            \"Authorization\": f\"Bearer {self.token}\",\n",
        "            \"Content-Type\": \"application/json\"\n",
        "        }\n",
        "        response = requests.post(url, headers=headers, json=payload)\n",
        "        if response.status_code != 200:\n",
        "          print(response.json())\n",
        "        return response.status_code == 200\n",
        "\n",
        "    @token_required\n",
        "    def prefill_document(self, document_id, prefill_text):\n",
        "        url = f\"{self.base_url}/v2/documents/{document_id}/prefill-texts\"\n",
        "        headers = {\n",
        "            \"Authorization\": f\"Bearer {self.token}\",\n",
        "            \"Content-Type\": \"application/json\"\n",
        "        }\n",
        "        payload = {\n",
        "            \"fields\": prefill_text\n",
        "        }\n",
        "        response = requests.put(url, headers=headers, json=payload)\n",
        "        if response.status_code != 204:\n",
        "          print(response.json())\n",
        "        return response.status_code == 204"
      ],
      "metadata": {
        "id": "-kkrP0ggQw9T"
      },
      "execution_count": 9,
      "outputs": []
    },
    {
      "cell_type": "code",
      "source": [
        "api = SignNowAPI()\n",
        "api.get_access_token()\n",
        "api.token"
      ],
      "metadata": {
        "id": "aPuCQg44xFTT",
        "colab": {
          "base_uri": "https://localhost:8080/",
          "height": 35
        },
        "outputId": "58a8ef1c-2349-458a-f9e8-0f88d1a639d4"
      },
      "execution_count": 12,
      "outputs": [
        {
          "output_type": "execute_result",
          "data": {
            "text/plain": [
              "'0b9a974b95f525c27bcf5547b8bb76f24e10ee92d7e6f7d5488ae11baf2d6f13'"
            ],
            "application/vnd.google.colaboratory.intrinsic+json": {
              "type": "string"
            }
          },
          "metadata": {},
          "execution_count": 12
        }
      ]
    },
    {
      "cell_type": "code",
      "source": [
        "#init the signnow class\n",
        "api = SignNowAPI()\n",
        "template_id = os.getenv('template_id')\n",
        "\n",
        "#create all the documents from the template and store in a list\n",
        "#the number of tenants(users) can be predetermined from the no of bedrooms in the house while filling the application request\n",
        "#details like move in date, rent due and address can be checked and modified before creating the document package and sending the invites\n",
        "document_list = []\n",
        "invite_json = {}\n",
        "invite_list = []\n",
        "text_field_dict = {}\n",
        "invite_subject = f\"Please sign the application for {house_name}\"\n",
        "order = [1,2,2]\n",
        "for signer in range(len(user_details)):\n",
        "  #doc creation\n",
        "  doc_name = f\"{house_name}, {user_details[signer]['name']}\"\n",
        "  doc_id = api.create_document_from_template(template_id, doc_name)\n",
        "  text_field_list = []\n",
        "  text_field_list.append({\"field_name\":'Text Field 122',\"prefilled_text\":  all_tenant_prefill(user_details[signer]['name'])}) #all tenants line\n",
        "  text_field_list.append({\"field_name\":'Text Field 91',\"prefilled_text\":  house_name}) #house address\n",
        "  text_field_list.append({\"field_name\":'Text Field 109',\"prefilled_text\":  rent}) #rent\n",
        "  prefill_status = api.prefill_document(doc_id, text_field_list)\n",
        "  if not prefill_status:\n",
        "    print('Prefill error')\n",
        "  document_list.append(doc_id)\n",
        "\n",
        "  #invite generation\n",
        "  curr_invite = {}\n",
        "  curr_invite['order'] = signer+1\n",
        "\n",
        "  curr_invite_mail = {'email':user_details[signer]['email'], 'subject': invite_subject, 'expiration_days':7}\n",
        "  curr_invite['invite_emails'] = [curr_invite_mail]\n",
        "\n",
        "  curr_invite_action = {'email':user_details[signer]['email'],\n",
        "                         'role_name': 'Recipient 1',\n",
        "                         'action': 'sign',\n",
        "                         'document_id': doc_id,\n",
        "                         'allow_reassign': '0',\n",
        "                         'decline_by_signature': '0'}\n",
        "  curr_invite['invite_actions'] = [curr_invite_action]\n",
        "\n",
        "  invite_list.append(curr_invite)\n",
        "\n",
        "completion_emails = [{'email' : os.getenv('username'),\n",
        "                      'subject': f\"Singing completed for {house_name}\",\n",
        "                      'message': 'document group signing completed'}]\n",
        "\n",
        "invite_json['invite_steps'] = invite_list\n",
        "invite_json['completion_emails'] = completion_emails\n",
        "\n",
        "\n",
        "\n",
        "# Create a new document group\n",
        "group_name = f\"{house_name}, {user_details[0]['name']}, {datetime.now().strftime('%m-%d-%Y')}\"\n",
        "documentgroup_id = api.create_document_group(document_list, group_name)\n",
        "\n",
        "# # Send an invite to sign the document\n",
        "api.send_invite(documentgroup_id, invite_json)\n",
        "\n",
        "print(f\"New folder created: {documentgroup_id}\")"
      ],
      "metadata": {
        "id": "WgEacAIc3nDW",
        "colab": {
          "base_uri": "https://localhost:8080/"
        },
        "outputId": "9e7aafc9-00d9-4771-c7d9-59a736e5dcdd"
      },
      "execution_count": 10,
      "outputs": [
        {
          "output_type": "stream",
          "name": "stdout",
          "text": [
            "{'errors': [{'code': 65582, 'message': 'An invite_step is missing an order attribute or the attribute is invalid. Must be between 1 and 100'}]}\n",
            "New folder created: 3045d39375494592b82221e3d060d01b09d006e4\n"
          ]
        }
      ]
    },
    {
      "cell_type": "code",
      "source": [
        "# #we can use this for setting a few links after the signing!\n",
        "\n",
        "# \"redirect_uri\": \"https://example.com\",\n",
        "# \"decline_redirect_uri\": \"https://signnow.com\",\n",
        "# \"close_redirect_uri\": \"https://close-redirect-uri.com\",\n",
        "# \"redirect_target\": \"blank\""
      ],
      "metadata": {
        "id": "fIDdRgPyAUdk"
      },
      "execution_count": null,
      "outputs": []
    },
    {
      "cell_type": "code",
      "source": [
        "api.token"
      ],
      "metadata": {
        "colab": {
          "base_uri": "https://localhost:8080/",
          "height": 35
        },
        "id": "cpTUUz_GeRsP",
        "outputId": "0c6f47cb-4f89-41e8-9a1c-ed7a0d3defd8"
      },
      "execution_count": 12,
      "outputs": [
        {
          "output_type": "execute_result",
          "data": {
            "text/plain": [
              "'3441b784a2f2870f9d077aed119da80a99fbbef4e69d7f323c0c342f663be55f'"
            ],
            "application/vnd.google.colaboratory.intrinsic+json": {
              "type": "string"
            }
          },
          "metadata": {},
          "execution_count": 12
        }
      ]
    },
    {
      "cell_type": "code",
      "source": [
        "invite_json"
      ],
      "metadata": {
        "colab": {
          "base_uri": "https://localhost:8080/"
        },
        "id": "ByJfLdRldPMa",
        "outputId": "c0b122c5-558f-479a-9166-4c268cc2a86b"
      },
      "execution_count": 11,
      "outputs": [
        {
          "output_type": "execute_result",
          "data": {
            "text/plain": [
              "{'invite_steps': [{'order': 0,\n",
              "   'invite_emails': [{'email': 'mskishan26@gmail.com',\n",
              "     'subject': 'Please sign the application for 1234 xyz st',\n",
              "     'expiration_days': 7}],\n",
              "   'invite_actions': [{'email': 'mskishan26@gmail.com',\n",
              "     'role_name': 'Recipient 1',\n",
              "     'action': 'sign',\n",
              "     'document_id': '11268185c3fc4b82bf8fd73beabfd5720b2038bc',\n",
              "     'allow_reassign': '0',\n",
              "     'decline_by_signature': '0'}]},\n",
              "  {'order': 1,\n",
              "   'invite_emails': [{'email': 'obinsontobinson@gmail.com',\n",
              "     'subject': 'Please sign the application for 1234 xyz st',\n",
              "     'expiration_days': 7}],\n",
              "   'invite_actions': [{'email': 'obinsontobinson@gmail.com',\n",
              "     'role_name': 'Recipient 1',\n",
              "     'action': 'sign',\n",
              "     'document_id': 'c5af5992af1440b29d6055138f582d968952967d',\n",
              "     'allow_reassign': '0',\n",
              "     'decline_by_signature': '0'}]}],\n",
              " 'completion_emails': [{'email': 'sathishbabu.ki@northeastern.edu',\n",
              "   'subject': 'Singing completed for 1234 xyz st',\n",
              "   'message': 'document group signing completed'}]}"
            ]
          },
          "metadata": {},
          "execution_count": 11
        }
      ]
    }
  ]
}